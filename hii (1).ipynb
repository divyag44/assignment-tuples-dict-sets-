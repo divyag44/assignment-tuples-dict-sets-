{
 "cells": [
  {
   "cell_type": "markdown",
   "id": "e22778a2-8a19-401b-8257-d24df6138bf6",
   "metadata": {},
   "source": [
    "## 1.What are the characteristics of the tuples? Is tuple immutable?"
   ]
  },
  {
   "cell_type": "markdown",
   "id": "5ddcf479-11a7-47c5-ad24-b94589465c24",
   "metadata": {},
   "source": [
    "## answer1.Tuples are immutable lists and cannot be changed in any way once it is created. Some of the characteristics features of Tuples are: Tuples are defined in the same way as lists. They are enclosed within parenthesis and not within square braces."
   ]
  },
  {
   "cell_type": "markdown",
   "id": "a57fbdce-d782-4ed5-9252-765b9a0cbcb2",
   "metadata": {},
   "source": [
    "## Q2. What are the two tuple methods in python? Give an example of each method. Give a reason why tuples have only two in-built methods as compared to Lists."
   ]
  },
  {
   "cell_type": "markdown",
   "id": "a07fd296-4fb2-479b-991a-fe4e572dc0b1",
   "metadata": {},
   "source": [
    "### answer2. Two tuple method in python are (1)count and (2)index.\n",
    "### tuples are immutable lists and and though it can't be changed to much forms, it has only 2 methods as comapred to lists."
   ]
  },
  {
   "cell_type": "code",
   "execution_count": null,
   "id": "4f4ab51a-0639-4659-9332-b8940b4630b9",
   "metadata": {},
   "outputs": [],
   "source": [
    "    #exapmple 1\n",
    "    t=(1,2,3,3,3,3,4,4,5)\n",
    "    t.count(4)    "
   ]
  },
  {
   "cell_type": "code",
   "execution_count": 10,
   "id": "16330765-7196-43ac-b19c-f3be44bd4559",
   "metadata": {},
   "outputs": [
    {
     "data": {
      "text/plain": [
       "6"
      ]
     },
     "execution_count": 10,
     "metadata": {},
     "output_type": "execute_result"
    }
   ],
   "source": [
    "    #example 2\n",
    "    t1=(45,55,55,55,48,48,10)\n",
    "    t1.index(10)"
   ]
  },
  {
   "cell_type": "markdown",
   "id": "752e0ce2-4bab-40bd-9dcb-f9eaf1b71b6f",
   "metadata": {},
   "source": [
    "## Q3. Which collection datatypes in python do not allow duplicate items? Write a code using a set to remove duplicates from the given list."
   ]
  },
  {
   "cell_type": "markdown",
   "id": "77013597-4315-4e9d-9877-6d8572d9e43d",
   "metadata": {},
   "source": [
    "### answer.A set is a collection of distinct elements, so we don’t have any duplicates in a set. We can declare a set by separating values with commas inside curly braces {} or by using the set () function."
   ]
  },
  {
   "cell_type": "code",
   "execution_count": 11,
   "id": "671ac9f0-e883-41a2-9929-213c314b0265",
   "metadata": {},
   "outputs": [
    {
     "name": "stdout",
     "output_type": "stream",
     "text": [
      "['a', 'b', 'c']\n"
     ]
    }
   ],
   "source": [
    "mylist = [\"a\", \"b\", \"a\", \"c\", \"c\"]\n",
    "mylist = list(dict.fromkeys(mylist))\n",
    "print(mylist)"
   ]
  },
  {
   "cell_type": "markdown",
   "id": "5f89ae19-cf1d-4242-b78e-927a324b2c14",
   "metadata": {},
   "source": [
    "## Q4. Explain the difference between the union() and update() methods for a set. Give an example of each method."
   ]
  },
  {
   "cell_type": "markdown",
   "id": "c301be00-0fce-4783-9632-043709407da0",
   "metadata": {},
   "source": [
    "### answer.4.  They are very different. One set changes the set in place, while the other leaves the original set alone, and returns a copy instead."
   ]
  },
  {
   "cell_type": "markdown",
   "id": "110691e7-5ed4-41a1-8219-6f32ffb9a04c",
   "metadata": {},
   "source": [
    "### It is very similar to union () method, with difference is that where union () method create and return a new set, containing all the elements ( distinct ) present in all the iterables, update () method updates the set on which this method is called with all the distinct elements present in all the iterables.\n"
   ]
  },
  {
   "cell_type": "code",
   "execution_count": 20,
   "id": "95c7bb1f-4391-49d8-be71-254aae66dda2",
   "metadata": {},
   "outputs": [],
   "source": [
    "set('abba')\n",
    "set(['a', 'b'])\n",
    "set('abba').update(set('c'))"
   ]
  },
  {
   "cell_type": "markdown",
   "id": "b11b57cc-63bc-4a6b-a96c-e643108e5f08",
   "metadata": {},
   "source": [
    "## Q5. What is a dictionary? Give an example. Also, state whether a dictionary is ordered or unordered."
   ]
  },
  {
   "cell_type": "markdown",
   "id": "40a27c3d-ac83-4c5a-b8ad-e20a9cf71f9c",
   "metadata": {
    "tags": []
   },
   "source": [
    "#### The dictionary is an unordered collection that contains key : value pairs separated by commas inside curly brackets. Dictionaries are optimized to retrieve values when the key is known. The following declares a dictionary object.\n",
    "#### Dictionary in Python is an unordered collection of data values, used to store data values like a map, which unlike other Data Types that hold only single value as an element, Dictionary holds key:value pair."
   ]
  },
  {
   "cell_type": "code",
   "execution_count": 22,
   "id": "535d2022-bec9-4927-acad-5413a38e9870",
   "metadata": {},
   "outputs": [
    {
     "data": {
      "text/plain": [
       "{'economics honors', 'name'}"
      ]
     },
     "execution_count": 22,
     "metadata": {},
     "output_type": "execute_result"
    }
   ],
   "source": [
    "#example of dic:\n",
    "d={\"name\",\"economics honors\"}\n",
    "d"
   ]
  },
  {
   "cell_type": "markdown",
   "id": "d5432d8d-ba02-4730-8ce5-516320eb5806",
   "metadata": {},
   "source": [
    "## Q6. Can we create a nested dictionary? If so, please give an example by creating a simple one-level nested dictionary."
   ]
  },
  {
   "cell_type": "code",
   "execution_count": 24,
   "id": "1cf3ae97-c58d-4125-94f7-fac545168746",
   "metadata": {},
   "outputs": [
    {
     "data": {
      "text/plain": [
       "{'name': 'arun', 'course': 'economics honors'}"
      ]
     },
     "execution_count": 24,
     "metadata": {},
     "output_type": "execute_result"
    }
   ],
   "source": [
    "#dictionary which can be made inside distionary is nested dictionary.and yes we can create a nested dictionary.\n",
    "d1={\"name\":\"arun\" , \"course\" : \"economics honors\"}\n",
    "d1"
   ]
  },
  {
   "cell_type": "markdown",
   "id": "19968959-bc12-43e2-a177-d12c79e28bf6",
   "metadata": {},
   "source": [
    "## Q7. Using setdefault() method, create key named topics in the given dictionary and also add the value of the key as this list ['Python', 'Machine Learning’, 'Deep Learning']"
   ]
  },
  {
   "attachments": {},
   "cell_type": "markdown",
   "id": "a7bc2cc0",
   "metadata": {},
   "source": [
    "##Python Dictionary setdefault() returns the value of a key (if the key is in dictionary).\n",
    "##Else, it inserts a key with the default value to the dictionary."
   ]
  },
  {
   "cell_type": "markdown",
   "id": "7035af5c-99fc-4dd0-bb29-ea403bce20c2",
   "metadata": {},
   "source": [
    "## Q8. What are the three view objects in dictionaries? Use the three in-built methods in python to display these three view objects for the given dictionary. dict1 = {'Sport': 'Cricket' , 'Teams': ['India', 'Australia', 'England', 'South Africa', 'Sri Lanka', 'New Zealand']}"
   ]
  },
  {
   "cell_type": "markdown",
   "id": "30682b63-a1a7-428a-857e-2c277543c2aa",
   "metadata": {},
   "source": [
    "### three view objects in dictionaries are "
   ]
  },
  {
   "attachments": {},
   "cell_type": "markdown",
   "id": "3c7286df",
   "metadata": {},
   "source": [
    "### answer.8. The main view objects of dictionary in python are keys, values and items."
   ]
  },
  {
   "cell_type": "code",
   "execution_count": null,
   "id": "e2b8cf1e-4dd5-4a07-ba09-8c92dee0e085",
   "metadata": {},
   "outputs": [],
   "source": [
    "#example\n",
    "shares1 = {'APPL': 100, 'GOOG': 50}\n",
    "shares2 = {}\n",
    "\n",
    "# print the keys of the shares1 and shares2\n",
    "print(\"Keys of shares1:\", shares1.keys())\n",
    "print(\"Keys of shares2:\", shares2.keys())"
   ]
  },
  {
   "cell_type": "code",
   "execution_count": null,
   "id": "4c4147d5-c3f0-44f4-8167-11ec8cc759cd",
   "metadata": {},
   "outputs": [],
   "source": [
    "#example 2\n",
    "dict1 = {'Sport': 'Cricket' , 'Teams': \n",
    "         ['India', 'Australia', 'England', 'South Africa', 'Sri Lanka', 'New Zealand']}\n",
    "dict1"
   ]
  },
  {
   "cell_type": "code",
   "execution_count": null,
   "id": "acd09b13-82a3-4750-baf9-bd96cb088370",
   "metadata": {},
   "outputs": [],
   "source": []
  },
  {
   "cell_type": "code",
   "execution_count": null,
   "id": "b7bfe9c3-94f2-43d6-b1dd-328d9d627862",
   "metadata": {},
   "outputs": [],
   "source": []
  }
 ],
 "metadata": {
  "kernelspec": {
   "display_name": "Python 3 (ipykernel)",
   "language": "python",
   "name": "python3"
  },
  "language_info": {
   "codemirror_mode": {
    "name": "ipython",
    "version": 3
   },
   "file_extension": ".py",
   "mimetype": "text/x-python",
   "name": "python",
   "nbconvert_exporter": "python",
   "pygments_lexer": "ipython3",
   "version": "3.10.8"
  }
 },
 "nbformat": 4,
 "nbformat_minor": 5
}
